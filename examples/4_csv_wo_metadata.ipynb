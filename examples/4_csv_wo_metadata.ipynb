{
  "cells": [
    {
      "cell_type": "markdown",
      "metadata": {},
      "source": [
        "# Example of abox generation from a csv file without metadata"
      ]
    },
    {
      "cell_type": "markdown",
      "metadata": {},
      "source": [
        "Please have a look at section from the [official docs](https://data2rdf.readthedocs.io/en/latest/examples/abox/4_csv_wo_metadata.html) for more details."
      ]
    },
    {
      "cell_type": "markdown",
      "metadata": {},
      "source": [
        "## Import dependencies"
      ]
    },
    {
      "cell_type": "code",
      "execution_count": 25,
      "metadata": {},
      "outputs": [],
      "source": [
        "from data2rdf import Data2RDF, Parser\n",
        "import requests"
      ]
    },
    {
      "cell_type": "markdown",
      "metadata": {},
      "source": [
        "## Get raw data"
      ]
    },
    {
      "cell_type": "code",
      "execution_count": 26,
      "metadata": {},
      "outputs": [
        {
          "name": "stdout",
          "output_type": "stream",
          "text": [
            "time,column_01,column_02,column_03\n",
            "2,2,2,2\n",
            "3,3,3,3\n",
            "4,4,4,4\n",
            "5,5,5,5\n",
            "\n"
          ]
        }
      ],
      "source": [
        "file_name = \"https://github.com/MI-FraunhoferIWM/data2rdf/raw/v2.0.0/tests/abox/csv_without_header/input/data/test.csv\"\n",
        "\n",
        "file = requests.get(file_name).text\n",
        "\n",
        "print(file)"
      ]
    },
    {
      "cell_type": "markdown",
      "metadata": {},
      "source": [
        "## Define Mapping"
      ]
    },
    {
      "cell_type": "code",
      "execution_count": 27,
      "metadata": {},
      "outputs": [
        {
          "name": "stdout",
          "output_type": "stream",
          "text": [
            "[\n",
            "  {\n",
            "    \"iri\": \"https://w3id.org/steel/ProcessOntology/Sensor\",\n",
            "    \"key\": \"column_01\",\n",
            "    \"suffix\": \"Sensor1\"\n",
            "  },\n",
            "  {\n",
            "    \"iri\": \"https://w3id.org/steel/ProcessOntology/Sensor\",\n",
            "    \"key\": \"column_02\",\n",
            "    \"suffix\": \"Sensor2\"\n",
            "  },\n",
            "  {\n",
            "    \"iri\": \"https://w3id.org/steel/ProcessOntology/Sensor\",\n",
            "    \"key\": \"column_03\",\n",
            "    \"suffix\": \"Sensor3\"\n",
            "  },\n",
            "  {\n",
            "    \"iri\": \"https://w3id.org/steel/ProcessOntology/TestTime\",\n",
            "    \"key\": \"time\"\n",
            "  }\n",
            "]\n",
            "\n"
          ]
        }
      ],
      "source": [
        "mapping_file = \"https://github.com/MI-FraunhoferIWM/data2rdf/raw/v2.0.0/tests/abox/csv_without_header/input/mapping/mapping.json\"\n",
        "\n",
        "mapping = requests.get(mapping_file).json()\n",
        "\n",
        "print(requests.get(mapping_file).text)"
      ]
    },
    {
      "cell_type": "markdown",
      "metadata": {},
      "source": [
        "## Define parser arguments"
      ]
    },
    {
      "cell_type": "code",
      "execution_count": 28,
      "metadata": {},
      "outputs": [],
      "source": [
        "parser_args = {\n",
        "    \"time_series_sep\": \",\",\n",
        "    \"metadata_length\": 0,\n",
        "    \"time_series_header_length\": 1\n",
        "}"
      ]
    },
    {
      "cell_type": "markdown",
      "metadata": {},
      "source": [
        "## Run the pipeline"
      ]
    },
    {
      "cell_type": "code",
      "execution_count": 29,
      "metadata": {},
      "outputs": [],
      "source": [
        "pipeline = Data2RDF(\n",
        "    raw_data = file,\n",
        "    mapping = mapping,\n",
        "    parser = Parser.csv,\n",
        "    parser_args = parser_args\n",
        ")"
      ]
    },
    {
      "cell_type": "markdown",
      "metadata": {},
      "source": [
        "## Print graph"
      ]
    },
    {
      "cell_type": "code",
      "execution_count": 30,
      "metadata": {},
      "outputs": [
        {
          "name": "stdout",
          "output_type": "stream",
          "text": [
            "@prefix csvw: <http://www.w3.org/ns/csvw#> .\n",
            "@prefix dcat: <http://www.w3.org/ns/dcat#> .\n",
            "@prefix dcterms: <http://purl.org/dc/terms/> .\n",
            "@prefix fileid: <https://www.example.org/> .\n",
            "@prefix foaf1: <http://xmlns.com/foaf/spec/> .\n",
            "@prefix qudt: <http://qudt.org/schema/qudt/> .\n",
            "@prefix rdfs: <http://www.w3.org/2000/01/rdf-schema#> .\n",
            "@prefix xsd: <http://www.w3.org/2001/XMLSchema#> .\n",
            "\n",
            "fileid:dataset a dcat:Dataset ;\n",
            "    dcterms:hasPart fileid:tableGroup ;\n",
            "    dcat:distribution [ a dcat:Distribution ;\n",
            "            dcat:accessURL \"https://www.example.org/download\"^^xsd:anyURI ;\n",
            "            dcat:mediaType \"http://www.iana.org/assignments/media-types/text/csv\"^^xsd:anyURI ] .\n",
            "\n",
            "fileid:Sensor1 a <https://w3id.org/steel/ProcessOntology/Sensor> .\n",
            "\n",
            "fileid:Sensor2 a <https://w3id.org/steel/ProcessOntology/Sensor> .\n",
            "\n",
            "fileid:Sensor3 a <https://w3id.org/steel/ProcessOntology/Sensor> .\n",
            "\n",
            "fileid:TestTime a <https://w3id.org/steel/ProcessOntology/TestTime> .\n",
            "\n",
            "fileid:tableGroup a csvw:TableGroup ;\n",
            "    csvw:table [ a csvw:Table ;\n",
            "            rdfs:label \"Time series data\" ;\n",
            "            csvw:tableSchema [ a csvw:Schema ;\n",
            "                    csvw:column [ a csvw:Column ;\n",
            "                            qudt:quantity fileid:Sensor1 ;\n",
            "                            csvw:titles \"column_01\"^^xsd:string ;\n",
            "                            foaf1:page [ a foaf1:Document ;\n",
            "                                    dcterms:format \"https://www.iana.org/assignments/media-types/application/json\"^^xsd:anyURI ;\n",
            "                                    dcterms:identifier \"https://www.example.org/column-1\"^^xsd:anyURI ;\n",
            "                                    dcterms:type \"http://purl.org/dc/terms/Dataset\"^^xsd:anyURI ] ],\n",
            "                        [ a csvw:Column ;\n",
            "                            qudt:quantity fileid:TestTime ;\n",
            "                            csvw:titles \"time\"^^xsd:string ;\n",
            "                            foaf1:page [ a foaf1:Document ;\n",
            "                                    dcterms:format \"https://www.iana.org/assignments/media-types/application/json\"^^xsd:anyURI ;\n",
            "                                    dcterms:identifier \"https://www.example.org/column-0\"^^xsd:anyURI ;\n",
            "                                    dcterms:type \"http://purl.org/dc/terms/Dataset\"^^xsd:anyURI ] ],\n",
            "                        [ a csvw:Column ;\n",
            "                            qudt:quantity fileid:Sensor3 ;\n",
            "                            csvw:titles \"column_03\"^^xsd:string ;\n",
            "                            foaf1:page [ a foaf1:Document ;\n",
            "                                    dcterms:format \"https://www.iana.org/assignments/media-types/application/json\"^^xsd:anyURI ;\n",
            "                                    dcterms:identifier \"https://www.example.org/column-3\"^^xsd:anyURI ;\n",
            "                                    dcterms:type \"http://purl.org/dc/terms/Dataset\"^^xsd:anyURI ] ],\n",
            "                        [ a csvw:Column ;\n",
            "                            qudt:quantity fileid:Sensor2 ;\n",
            "                            csvw:titles \"column_02\"^^xsd:string ;\n",
            "                            foaf1:page [ a foaf1:Document ;\n",
            "                                    dcterms:format \"https://www.iana.org/assignments/media-types/application/json\"^^xsd:anyURI ;\n",
            "                                    dcterms:identifier \"https://www.example.org/column-2\"^^xsd:anyURI ;\n",
            "                                    dcterms:type \"http://purl.org/dc/terms/Dataset\"^^xsd:anyURI ] ] ] ] .\n",
            "\n",
            "\n"
          ]
        }
      ],
      "source": [
        "print(pipeline.graph.serialize())"
      ]
    },
    {
      "cell_type": "markdown",
      "metadata": {},
      "source": [
        "## Print parsed time series metadata"
      ]
    },
    {
      "cell_type": "code",
      "execution_count": 31,
      "metadata": {},
      "outputs": [
        {
          "data": {
            "text/plain": [
              "[QuantityGraph(\n",
              " \tiri=https://w3id.org/steel/ProcessOntology/TestTime,\n",
              " \tsuffix=TestTime,\n",
              " \tkey=time,\n",
              " \tunit=None,\n",
              " \tvalue=None,\n",
              " \tunit_relation=qudt:hasUnit,\n",
              " \tvalue_relation=qudt:value),\n",
              " QuantityGraph(\n",
              " \tiri=https://w3id.org/steel/ProcessOntology/Sensor,\n",
              " \tsuffix=Sensor1,\n",
              " \tkey=column_01,\n",
              " \tunit=None,\n",
              " \tvalue=None,\n",
              " \tunit_relation=qudt:hasUnit,\n",
              " \tvalue_relation=qudt:value),\n",
              " QuantityGraph(\n",
              " \tiri=https://w3id.org/steel/ProcessOntology/Sensor,\n",
              " \tsuffix=Sensor2,\n",
              " \tkey=column_02,\n",
              " \tunit=None,\n",
              " \tvalue=None,\n",
              " \tunit_relation=qudt:hasUnit,\n",
              " \tvalue_relation=qudt:value),\n",
              " QuantityGraph(\n",
              " \tiri=https://w3id.org/steel/ProcessOntology/Sensor,\n",
              " \tsuffix=Sensor3,\n",
              " \tkey=column_03,\n",
              " \tunit=None,\n",
              " \tvalue=None,\n",
              " \tunit_relation=qudt:hasUnit,\n",
              " \tvalue_relation=qudt:value)]"
            ]
          },
          "execution_count": 31,
          "metadata": {},
          "output_type": "execute_result"
        }
      ],
      "source": [
        "pipeline.time_series_metadata"
      ]
    },
    {
      "cell_type": "markdown",
      "metadata": {},
      "source": [
        "## Print parsed time series data"
      ]
    },
    {
      "cell_type": "code",
      "execution_count": 32,
      "metadata": {},
      "outputs": [
        {
          "name": "stdout",
          "output_type": "stream",
          "text": [
            "   TestTime  Sensor1  Sensor2  Sensor3\n",
            "0         2        2        2        2\n",
            "1         3        3        3        3\n",
            "2         4        4        4        4\n",
            "3         5        5        5        5\n"
          ]
        }
      ],
      "source": [
        "print(pipeline.time_series)"
      ]
    }
  ],
  "metadata": {
    "kernelspec": {
      "display_name": "sdk",
      "language": "python",
      "name": "python3"
    },
    "language_info": {
      "codemirror_mode": {
        "name": "ipython",
        "version": 3
      },
      "file_extension": ".py",
      "mimetype": "text/x-python",
      "name": "python",
      "nbconvert_exporter": "python",
      "pygments_lexer": "ipython3",
      "version": "3.12.2"
    }
  },
  "nbformat": 4,
  "nbformat_minor": 2
}
