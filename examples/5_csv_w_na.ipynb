{
 "cells": [
  {
   "cell_type": "markdown",
   "metadata": {},
   "source": [
    "# Example of abox generation from a csv file without metadata and with missing values"
   ]
  },
  {
   "cell_type": "markdown",
   "metadata": {},
   "source": [
    "Please have a look at section from the [official docs](https://data2rdf.readthedocs.io/en/latest/examples/abox/5_csv_w_na.html) for more details."
   ]
  },
  {
   "cell_type": "markdown",
   "metadata": {},
   "source": [
    "## Import dependencies"
   ]
  },
  {
   "cell_type": "code",
   "execution_count": 17,
   "metadata": {},
   "outputs": [],
   "source": [
    "from data2rdf import Data2RDF, Parser\n",
    "import requests"
   ]
  },
  {
   "cell_type": "markdown",
   "metadata": {},
   "source": [
    "## Get raw data"
   ]
  },
  {
   "cell_type": "code",
   "execution_count": 18,
   "metadata": {},
   "outputs": [
    {
     "name": "stdout",
     "output_type": "stream",
     "text": [
      "Temperature[°C];Coefficient of thermal exapansion[1/K];Specific heat[J/kgK];Young's modulus[Pa];Poison's ratio[-];Thermal conductivity[W/mK];Density[kg/m3]\n",
      "20;8.70E-06;8.46E+02;7.47E+10;0.218;0.99;2.47E+03\n",
      "100;9.00E-06;8.70E+02;7.43E+10;0.223;1.06;\n",
      "200;9.20E-06;9.00E+02;7.34E+10;0.232;1.15;\n",
      "300;9.50E-06;9.35E+02;7.25E+10;0.241;1.23;\n",
      "400;9.80E-06;9.77E+02;7.11E+10;0.251;1.32;\n",
      "450;1.03E-05;1.03E+03;6.98E+10;0.258;;\n",
      "460;1.05E-05;1.06E+03;6.94E+10;0.26;;\n",
      "470;1.08E-05;1.13E+03;6.88E+10;0.262;;\n",
      "490;1.15E-05;1.28E+03;6.78E+10;0.267;;\n",
      "500;1.20E-05;1.36E+03;6.70E+10;0.269;1.4;\n",
      "510;1.29E-05;1.42E+03;6.64E+10;0.275;;\n",
      "520;1.40E-05;1.44E+03;6.55E+10;0.284;;\n",
      "530;1.52E-05;1.45E+03;6.48E+10;0.295;;\n",
      "543;1.80E-05;1.44E+03;6.36E+10;0.309;;\n",
      "550;1.95E-05;1.43E+03;6.28E+10;0.316;1.45;\n",
      "560;2.20E-05;1.42E+03;6.16E+10;0.326;;\n",
      "570;2.40E-05;1.42E+03;6.01E+10;0.335;;\n",
      "580;2.53E-05;1.41E+03;5.83E+10;0.343;;\n",
      "590;2.62E-05;1.40E+03;5.66E+10;0.351;;\n",
      "600;2.68E-05;1.40E+03;5.46E+10;0.359;1.49;\n",
      "610;2.72E-05;1.40E+03;5.23E+10;0.366;;\n",
      "635;2.76E-05;1.38E+03;4.60E+10;0.383;;\n",
      "650;;;;;1.53;\n",
      "670;2.78E-05;1.37E+03;3.80E+10;0.4;;\n",
      "700;2.79E-05;1.36E+03;3.15E+10;0.414;1.58;\n",
      "770;2.79E-05;1.35E+03;2.13E+10;0.438;;\n",
      "800;2.80E-05;1.35E+03;1.86E+10;0.444;1.66;\n",
      "900;2.80E-05;1.34E+03;1.26E+10;0.463;1.75;\n",
      "1000;2.80E-05;1.34E+03;8.70E+09;0.476;1.83;\n",
      "1100;2.80E-05;1.34E+03;6.00E+09;0.486;1.92;\n",
      "1200;2.80E-05;1.34E+03;3.80E+09;0.494;2;\n",
      "\n"
     ]
    }
   ],
   "source": [
    "file_name = \"https://github.com/MI-FraunhoferIWM/data2rdf/raw/v2.0.0/tests/abox/csv_empty_rows/input/data/data.csv\"\n",
    "\n",
    "file = requests.get(file_name).text\n",
    "\n",
    "print(file)"
   ]
  },
  {
   "cell_type": "markdown",
   "metadata": {},
   "source": [
    "## Define Mapping"
   ]
  },
  {
   "cell_type": "code",
   "execution_count": 19,
   "metadata": {},
   "outputs": [
    {
     "name": "stdout",
     "output_type": "stream",
     "text": [
      "[\n",
      "  {\n",
      "    \"iri\": \"https://w3id.org/steel/ProcessOntology/ThermalExpansionCoefficient\",\n",
      "    \"key\": \"Coefficient of thermal exapansion[1/K]\",\n",
      "    \"unit\": \"https://qudt.org/vocab/unit/PERCENT-PER-K\"\n",
      "  },\n",
      "  {\n",
      "    \"iri\": \"https://w3id.org/steel/ProcessOntology/MassDensity\",\n",
      "    \"key\": \"Density[kg/m3]\",\n",
      "    \"unit\": \"http://qudt.org/vocab/unit/KiloGM-PER-M3\"\n",
      "  },\n",
      "  {\n",
      "    \"iri\": \"https://w3id.org/steel/ProcessOntology/PoissonRatio\",\n",
      "    \"key\": \"Poison's ratio[-]\",\n",
      "    \"unit\": \"https://qudt.org/vocab/unit/NUM\"\n",
      "  },\n",
      "  {\n",
      "    \"iri\": \"https://w3id.org/steel/ProcessOntology/SpecificHeatCapacity\",\n",
      "    \"key\": \"Specific heat[J/kgK]\",\n",
      "    \"unit\": \"http://qudt.org/vocab/unit/J-PER-KiloGM-K\"\n",
      "  },\n",
      "  {\n",
      "    \"iri\": \"https://w3id.org/steel/ProcessOntology/Temperature\",\n",
      "    \"key\": \"Temperature[\\u00b0C]\",\n",
      "    \"unit\": \"https://qudt.org/vocab/unit/DEG_C\"\n",
      "  },\n",
      "  {\n",
      "    \"iri\": \"https://w3id.org/steel/ProcessOntology/ThermalConductivity\",\n",
      "    \"key\": \"Thermal conductivity[W/mK]\",\n",
      "    \"unit\": \"http://qudt.org/vocab/unit/KiloW-PER-M-K\"\n",
      "  },\n",
      "  {\n",
      "    \"iri\": \"https://w3id.org/steel/ProcessOntology/ModulusOfElasticity\",\n",
      "    \"key\": \"Young's modulus[Pa]\",\n",
      "    \"unit\": \"https://qudt.org/vocab/unit/PA\"\n",
      "  }\n",
      "]\n",
      "\n"
     ]
    }
   ],
   "source": [
    "mapping_file = \"https://github.com/MI-FraunhoferIWM/data2rdf/raw/v2.0.0/tests/abox/csv_empty_rows/input/mapping/mapping.json\"\n",
    "\n",
    "mapping = requests.get(mapping_file).json()\n",
    "\n",
    "print(requests.get(mapping_file).text)"
   ]
  },
  {
   "cell_type": "markdown",
   "metadata": {},
   "source": [
    "## Define parser arguments"
   ]
  },
  {
   "cell_type": "code",
   "execution_count": 20,
   "metadata": {},
   "outputs": [],
   "source": [
    "parser_args = {\n",
    "    \"time_series_sep\": \";\",\n",
    "    \"metadata_length\": 0,\n",
    "    \"time_series_header_length\": 1,\n",
    "    \"drop_na\": False\n",
    "}"
   ]
  },
  {
   "cell_type": "markdown",
   "metadata": {},
   "source": [
    "## Run the pipeline"
   ]
  },
  {
   "cell_type": "code",
   "execution_count": 21,
   "metadata": {},
   "outputs": [],
   "source": [
    "pipeline = Data2RDF(\n",
    "    raw_data = file,\n",
    "    mapping = mapping,\n",
    "    parser = Parser.csv,\n",
    "    parser_args = parser_args\n",
    ")"
   ]
  },
  {
   "cell_type": "markdown",
   "metadata": {},
   "source": [
    "## Print graph"
   ]
  },
  {
   "cell_type": "code",
   "execution_count": 22,
   "metadata": {},
   "outputs": [
    {
     "name": "stdout",
     "output_type": "stream",
     "text": [
      "@prefix csvw: <http://www.w3.org/ns/csvw#> .\n",
      "@prefix dcat: <http://www.w3.org/ns/dcat#> .\n",
      "@prefix dcterms: <http://purl.org/dc/terms/> .\n",
      "@prefix fileid: <https://www.example.org/> .\n",
      "@prefix foaf1: <http://xmlns.com/foaf/spec/> .\n",
      "@prefix qudt: <http://qudt.org/schema/qudt/> .\n",
      "@prefix rdfs: <http://www.w3.org/2000/01/rdf-schema#> .\n",
      "@prefix xsd: <http://www.w3.org/2001/XMLSchema#> .\n",
      "\n",
      "fileid:dataset a dcat:Dataset ;\n",
      "    dcterms:hasPart fileid:tableGroup ;\n",
      "    dcat:distribution [ a dcat:Distribution ;\n",
      "            dcat:accessURL \"https://www.example.org/download\"^^xsd:anyURI ;\n",
      "            dcat:mediaType \"http://www.iana.org/assignments/media-types/text/csv\"^^xsd:anyURI ] .\n",
      "\n",
      "fileid:MassDensity a <https://w3id.org/steel/ProcessOntology/MassDensity> ;\n",
      "    qudt:hasUnit \"http://qudt.org/vocab/unit/KiloGM-PER-M3\"^^xsd:anyURI .\n",
      "\n",
      "fileid:ModulusOfElasticity a <https://w3id.org/steel/ProcessOntology/ModulusOfElasticity> ;\n",
      "    qudt:hasUnit \"https://qudt.org/vocab/unit/PA\"^^xsd:anyURI .\n",
      "\n",
      "fileid:PoissonRatio a <https://w3id.org/steel/ProcessOntology/PoissonRatio> ;\n",
      "    qudt:hasUnit \"https://qudt.org/vocab/unit/NUM\"^^xsd:anyURI .\n",
      "\n",
      "fileid:SpecificHeatCapacity a <https://w3id.org/steel/ProcessOntology/SpecificHeatCapacity> ;\n",
      "    qudt:hasUnit \"http://qudt.org/vocab/unit/J-PER-KiloGM-K\"^^xsd:anyURI .\n",
      "\n",
      "fileid:Temperature a <https://w3id.org/steel/ProcessOntology/Temperature> ;\n",
      "    qudt:hasUnit \"https://qudt.org/vocab/unit/DEG_C\"^^xsd:anyURI .\n",
      "\n",
      "fileid:ThermalConductivity a <https://w3id.org/steel/ProcessOntology/ThermalConductivity> ;\n",
      "    qudt:hasUnit \"http://qudt.org/vocab/unit/KiloW-PER-M-K\"^^xsd:anyURI .\n",
      "\n",
      "fileid:ThermalExpansionCoefficient a <https://w3id.org/steel/ProcessOntology/ThermalExpansionCoefficient> ;\n",
      "    qudt:hasUnit \"https://qudt.org/vocab/unit/PERCENT-PER-K\"^^xsd:anyURI .\n",
      "\n",
      "fileid:tableGroup a csvw:TableGroup ;\n",
      "    csvw:table [ a csvw:Table ;\n",
      "            rdfs:label \"Time series data\" ;\n",
      "            csvw:tableSchema [ a csvw:Schema ;\n",
      "                    csvw:column [ a csvw:Column ;\n",
      "                            qudt:quantity fileid:Temperature ;\n",
      "                            csvw:titles \"Temperature[°C]\"^^xsd:string ;\n",
      "                            foaf1:page [ a foaf1:Document ;\n",
      "                                    dcterms:format \"https://www.iana.org/assignments/media-types/application/json\"^^xsd:anyURI ;\n",
      "                                    dcterms:identifier \"https://www.example.org/column-0\"^^xsd:anyURI ;\n",
      "                                    dcterms:type \"http://purl.org/dc/terms/Dataset\"^^xsd:anyURI ] ],\n",
      "                        [ a csvw:Column ;\n",
      "                            qudt:quantity fileid:ModulusOfElasticity ;\n",
      "                            csvw:titles \"Young's modulus[Pa]\"^^xsd:string ;\n",
      "                            foaf1:page [ a foaf1:Document ;\n",
      "                                    dcterms:format \"https://www.iana.org/assignments/media-types/application/json\"^^xsd:anyURI ;\n",
      "                                    dcterms:identifier \"https://www.example.org/column-3\"^^xsd:anyURI ;\n",
      "                                    dcterms:type \"http://purl.org/dc/terms/Dataset\"^^xsd:anyURI ] ],\n",
      "                        [ a csvw:Column ;\n",
      "                            qudt:quantity fileid:ThermalExpansionCoefficient ;\n",
      "                            csvw:titles \"Coefficient of thermal exapansion[1/K]\"^^xsd:string ;\n",
      "                            foaf1:page [ a foaf1:Document ;\n",
      "                                    dcterms:format \"https://www.iana.org/assignments/media-types/application/json\"^^xsd:anyURI ;\n",
      "                                    dcterms:identifier \"https://www.example.org/column-1\"^^xsd:anyURI ;\n",
      "                                    dcterms:type \"http://purl.org/dc/terms/Dataset\"^^xsd:anyURI ] ],\n",
      "                        [ a csvw:Column ;\n",
      "                            qudt:quantity fileid:ThermalConductivity ;\n",
      "                            csvw:titles \"Thermal conductivity[W/mK]\"^^xsd:string ;\n",
      "                            foaf1:page [ a foaf1:Document ;\n",
      "                                    dcterms:format \"https://www.iana.org/assignments/media-types/application/json\"^^xsd:anyURI ;\n",
      "                                    dcterms:identifier \"https://www.example.org/column-5\"^^xsd:anyURI ;\n",
      "                                    dcterms:type \"http://purl.org/dc/terms/Dataset\"^^xsd:anyURI ] ],\n",
      "                        [ a csvw:Column ;\n",
      "                            qudt:quantity fileid:PoissonRatio ;\n",
      "                            csvw:titles \"Poison's ratio[-]\"^^xsd:string ;\n",
      "                            foaf1:page [ a foaf1:Document ;\n",
      "                                    dcterms:format \"https://www.iana.org/assignments/media-types/application/json\"^^xsd:anyURI ;\n",
      "                                    dcterms:identifier \"https://www.example.org/column-4\"^^xsd:anyURI ;\n",
      "                                    dcterms:type \"http://purl.org/dc/terms/Dataset\"^^xsd:anyURI ] ],\n",
      "                        [ a csvw:Column ;\n",
      "                            qudt:quantity fileid:MassDensity ;\n",
      "                            csvw:titles \"Density[kg/m3]\"^^xsd:string ;\n",
      "                            foaf1:page [ a foaf1:Document ;\n",
      "                                    dcterms:format \"https://www.iana.org/assignments/media-types/application/json\"^^xsd:anyURI ;\n",
      "                                    dcterms:identifier \"https://www.example.org/column-6\"^^xsd:anyURI ;\n",
      "                                    dcterms:type \"http://purl.org/dc/terms/Dataset\"^^xsd:anyURI ] ],\n",
      "                        [ a csvw:Column ;\n",
      "                            qudt:quantity fileid:SpecificHeatCapacity ;\n",
      "                            csvw:titles \"Specific heat[J/kgK]\"^^xsd:string ;\n",
      "                            foaf1:page [ a foaf1:Document ;\n",
      "                                    dcterms:format \"https://www.iana.org/assignments/media-types/application/json\"^^xsd:anyURI ;\n",
      "                                    dcterms:identifier \"https://www.example.org/column-2\"^^xsd:anyURI ;\n",
      "                                    dcterms:type \"http://purl.org/dc/terms/Dataset\"^^xsd:anyURI ] ] ] ] .\n",
      "\n",
      "\n"
     ]
    }
   ],
   "source": [
    "print(pipeline.graph.serialize())"
   ]
  },
  {
   "cell_type": "markdown",
   "metadata": {},
   "source": [
    "## Print parsed time series metadata"
   ]
  },
  {
   "cell_type": "code",
   "execution_count": 23,
   "metadata": {},
   "outputs": [
    {
     "data": {
      "text/plain": [
       "[QuantityGraph(\n",
       " \tiri=https://w3id.org/steel/ProcessOntology/Temperature,\n",
       " \tsuffix=Temperature,\n",
       " \tkey=Temperature[°C],\n",
       " \tunit=https://qudt.org/vocab/unit/DEG_C,\n",
       " \tvalue=None,\n",
       " \tunit_relation=qudt:hasUnit,\n",
       " \tvalue_relation=qudt:value),\n",
       " QuantityGraph(\n",
       " \tiri=https://w3id.org/steel/ProcessOntology/ThermalExpansionCoefficient,\n",
       " \tsuffix=ThermalExpansionCoefficient,\n",
       " \tkey=Coefficient of thermal exapansion[1/K],\n",
       " \tunit=https://qudt.org/vocab/unit/PERCENT-PER-K,\n",
       " \tvalue=None,\n",
       " \tunit_relation=qudt:hasUnit,\n",
       " \tvalue_relation=qudt:value),\n",
       " QuantityGraph(\n",
       " \tiri=https://w3id.org/steel/ProcessOntology/SpecificHeatCapacity,\n",
       " \tsuffix=SpecificHeatCapacity,\n",
       " \tkey=Specific heat[J/kgK],\n",
       " \tunit=http://qudt.org/vocab/unit/J-PER-KiloGM-K,\n",
       " \tvalue=None,\n",
       " \tunit_relation=qudt:hasUnit,\n",
       " \tvalue_relation=qudt:value),\n",
       " QuantityGraph(\n",
       " \tiri=https://w3id.org/steel/ProcessOntology/ModulusOfElasticity,\n",
       " \tsuffix=ModulusOfElasticity,\n",
       " \tkey=Young's modulus[Pa],\n",
       " \tunit=https://qudt.org/vocab/unit/PA,\n",
       " \tvalue=None,\n",
       " \tunit_relation=qudt:hasUnit,\n",
       " \tvalue_relation=qudt:value),\n",
       " QuantityGraph(\n",
       " \tiri=https://w3id.org/steel/ProcessOntology/PoissonRatio,\n",
       " \tsuffix=PoissonRatio,\n",
       " \tkey=Poison's ratio[-],\n",
       " \tunit=https://qudt.org/vocab/unit/NUM,\n",
       " \tvalue=None,\n",
       " \tunit_relation=qudt:hasUnit,\n",
       " \tvalue_relation=qudt:value),\n",
       " QuantityGraph(\n",
       " \tiri=https://w3id.org/steel/ProcessOntology/ThermalConductivity,\n",
       " \tsuffix=ThermalConductivity,\n",
       " \tkey=Thermal conductivity[W/mK],\n",
       " \tunit=http://qudt.org/vocab/unit/KiloW-PER-M-K,\n",
       " \tvalue=None,\n",
       " \tunit_relation=qudt:hasUnit,\n",
       " \tvalue_relation=qudt:value),\n",
       " QuantityGraph(\n",
       " \tiri=https://w3id.org/steel/ProcessOntology/MassDensity,\n",
       " \tsuffix=MassDensity,\n",
       " \tkey=Density[kg/m3],\n",
       " \tunit=http://qudt.org/vocab/unit/KiloGM-PER-M3,\n",
       " \tvalue=None,\n",
       " \tunit_relation=qudt:hasUnit,\n",
       " \tvalue_relation=qudt:value)]"
      ]
     },
     "execution_count": 23,
     "metadata": {},
     "output_type": "execute_result"
    }
   ],
   "source": [
    "pipeline.time_series_metadata"
   ]
  },
  {
   "cell_type": "markdown",
   "metadata": {},
   "source": [
    "## Print parsed time series data"
   ]
  },
  {
   "cell_type": "code",
   "execution_count": 24,
   "metadata": {},
   "outputs": [
    {
     "name": "stdout",
     "output_type": "stream",
     "text": [
      "    Temperature  ThermalExpansionCoefficient  SpecificHeatCapacity  \\\n",
      "0          20.0                     0.000009                 846.0   \n",
      "1         100.0                     0.000009                 870.0   \n",
      "2         200.0                     0.000009                 900.0   \n",
      "3         300.0                     0.000010                 935.0   \n",
      "4         400.0                     0.000010                 977.0   \n",
      "5         450.0                     0.000010                1030.0   \n",
      "6         460.0                     0.000010                1060.0   \n",
      "7         470.0                     0.000011                1130.0   \n",
      "8         490.0                     0.000012                1280.0   \n",
      "9         500.0                     0.000012                1360.0   \n",
      "10        510.0                     0.000013                1420.0   \n",
      "11        520.0                     0.000014                1440.0   \n",
      "12        530.0                     0.000015                1450.0   \n",
      "13        543.0                     0.000018                1440.0   \n",
      "14        550.0                     0.000019                1430.0   \n",
      "15        560.0                     0.000022                1420.0   \n",
      "16        570.0                     0.000024                1420.0   \n",
      "17        580.0                     0.000025                1410.0   \n",
      "18        590.0                     0.000026                1400.0   \n",
      "19        600.0                     0.000027                1400.0   \n",
      "20        610.0                     0.000027                1400.0   \n",
      "21        635.0                     0.000028                1380.0   \n",
      "22        650.0                          NaN                   NaN   \n",
      "23        670.0                     0.000028                1370.0   \n",
      "24        700.0                     0.000028                1360.0   \n",
      "25        770.0                     0.000028                1350.0   \n",
      "26        800.0                     0.000028                1350.0   \n",
      "27        900.0                     0.000028                1340.0   \n",
      "28       1000.0                     0.000028                1340.0   \n",
      "29       1100.0                     0.000028                1340.0   \n",
      "30       1200.0                     0.000028                1340.0   \n",
      "\n",
      "    ModulusOfElasticity  PoissonRatio  ThermalConductivity  MassDensity  \n",
      "0          7.470000e+10         0.218                 0.99       2470.0  \n",
      "1          7.430000e+10         0.223                 1.06          NaN  \n",
      "2          7.340000e+10         0.232                 1.15          NaN  \n",
      "3          7.250000e+10         0.241                 1.23          NaN  \n",
      "4          7.110000e+10         0.251                 1.32          NaN  \n",
      "5          6.980000e+10         0.258                  NaN          NaN  \n",
      "6          6.940000e+10         0.260                  NaN          NaN  \n",
      "7          6.880000e+10         0.262                  NaN          NaN  \n",
      "8          6.780000e+10         0.267                  NaN          NaN  \n",
      "9          6.700000e+10         0.269                 1.40          NaN  \n",
      "10         6.640000e+10         0.275                  NaN          NaN  \n",
      "11         6.550000e+10         0.284                  NaN          NaN  \n",
      "12         6.480000e+10         0.295                  NaN          NaN  \n",
      "13         6.360000e+10         0.309                  NaN          NaN  \n",
      "14         6.280000e+10         0.316                 1.45          NaN  \n",
      "15         6.160000e+10         0.326                  NaN          NaN  \n",
      "16         6.010000e+10         0.335                  NaN          NaN  \n",
      "17         5.830000e+10         0.343                  NaN          NaN  \n",
      "18         5.660000e+10         0.351                  NaN          NaN  \n",
      "19         5.460000e+10         0.359                 1.49          NaN  \n",
      "20         5.230000e+10         0.366                  NaN          NaN  \n",
      "21         4.600000e+10         0.383                  NaN          NaN  \n",
      "22                  NaN           NaN                 1.53          NaN  \n",
      "23         3.800000e+10         0.400                  NaN          NaN  \n",
      "24         3.150000e+10         0.414                 1.58          NaN  \n",
      "25         2.130000e+10         0.438                  NaN          NaN  \n",
      "26         1.860000e+10         0.444                 1.66          NaN  \n",
      "27         1.260000e+10         0.463                 1.75          NaN  \n",
      "28         8.700000e+09         0.476                 1.83          NaN  \n",
      "29         6.000000e+09         0.486                 1.92          NaN  \n",
      "30         3.800000e+09         0.494                 2.00          NaN  \n"
     ]
    }
   ],
   "source": [
    "print(pipeline.time_series)"
   ]
  }
 ],
 "metadata": {
  "kernelspec": {
   "display_name": "sdk",
   "language": "python",
   "name": "python3"
  },
  "language_info": {
   "codemirror_mode": {
    "name": "ipython",
    "version": 3
   },
   "file_extension": ".py",
   "mimetype": "text/x-python",
   "name": "python",
   "nbconvert_exporter": "python",
   "pygments_lexer": "ipython3",
   "version": "3.12.2"
  }
 },
 "nbformat": 4,
 "nbformat_minor": 2
}
