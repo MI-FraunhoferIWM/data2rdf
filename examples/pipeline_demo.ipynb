{
  "cells": [
    {
      "cell_type": "markdown",
      "metadata": {},
      "source": [
        "# Install the package using pip "
      ]
    },
    {
      "cell_type": "code",
      "execution_count": 23,
      "metadata": {},
      "outputs": [
        {
          "name": "stdout",
          "output_type": "stream",
          "text": [
            "Requirement already satisfied: data2rdf in /home/bue/data2rdf (1.1.0)\n",
            "Requirement already satisfied: beautifulsoup4>=4.0.0 in /home/bue/.local/lib/python3.8/site-packages (from data2rdf) (4.12.3)\n",
            "Requirement already satisfied: chowlk-unofficial-fork==0.0.2 in /home/bue/.local/lib/python3.8/site-packages (from data2rdf) (0.0.2)\n",
            "Requirement already satisfied: openpyxl<4,>=3 in /home/bue/.local/lib/python3.8/site-packages (from data2rdf) (3.1.2)\n",
            "Requirement already satisfied: pandas<3,>=2 in /home/bue/.local/lib/python3.8/site-packages (from data2rdf) (2.0.3)\n",
            "Requirement already satisfied: python-dotenv in /home/bue/.local/lib/python3.8/site-packages (from data2rdf) (1.0.1)\n",
            "Requirement already satisfied: python-magic==0.4.27 in /home/bue/.local/lib/python3.8/site-packages (from data2rdf) (0.4.27)\n",
            "Requirement already satisfied: rdflib==6.2.0 in /home/bue/.local/lib/python3.8/site-packages (from data2rdf) (6.2.0)\n",
            "Requirement already satisfied: tables==3.8.0 in /home/bue/.local/lib/python3.8/site-packages (from data2rdf) (3.8.0)\n",
            "Requirement already satisfied: soupsieve>1.2 in /home/bue/.local/lib/python3.8/site-packages (from beautifulsoup4>=4.0.0->data2rdf) (2.5)\n",
            "Requirement already satisfied: et-xmlfile in /home/bue/.local/lib/python3.8/site-packages (from openpyxl<4,>=3->data2rdf) (1.1.0)\n",
            "Requirement already satisfied: numpy>=1.20.3; python_version < \"3.10\" in /home/bue/.local/lib/python3.8/site-packages (from pandas<3,>=2->data2rdf) (1.24.4)\n",
            "Requirement already satisfied: python-dateutil>=2.8.2 in /home/bue/.local/lib/python3.8/site-packages (from pandas<3,>=2->data2rdf) (2.9.0.post0)\n",
            "Requirement already satisfied: tzdata>=2022.1 in /home/bue/.local/lib/python3.8/site-packages (from pandas<3,>=2->data2rdf) (2024.1)\n",
            "Requirement already satisfied: pytz>=2020.1 in /home/bue/.local/lib/python3.8/site-packages (from pandas<3,>=2->data2rdf) (2024.1)\n",
            "Requirement already satisfied: isodate in /home/bue/.local/lib/python3.8/site-packages (from rdflib==6.2.0->data2rdf) (0.6.1)\n",
            "Requirement already satisfied: pyparsing in /home/bue/.local/lib/python3.8/site-packages (from rdflib==6.2.0->data2rdf) (3.1.2)\n",
            "Requirement already satisfied: setuptools in /usr/lib/python3/dist-packages (from rdflib==6.2.0->data2rdf) (45.2.0)\n",
            "Requirement already satisfied: blosc2~=2.0.0 in /home/bue/.local/lib/python3.8/site-packages (from tables==3.8.0->data2rdf) (2.0.0)\n",
            "Requirement already satisfied: packaging in /home/bue/.local/lib/python3.8/site-packages (from tables==3.8.0->data2rdf) (23.2)\n",
            "Requirement already satisfied: py-cpuinfo in /home/bue/.local/lib/python3.8/site-packages (from tables==3.8.0->data2rdf) (9.0.0)\n",
            "Requirement already satisfied: cython>=0.29.21 in /home/bue/.local/lib/python3.8/site-packages (from tables==3.8.0->data2rdf) (3.0.9)\n",
            "Requirement already satisfied: numexpr>=2.6.2 in /home/bue/.local/lib/python3.8/site-packages (from tables==3.8.0->data2rdf) (2.8.6)\n",
            "Requirement already satisfied: six>=1.5 in /usr/lib/python3/dist-packages (from python-dateutil>=2.8.2->pandas<3,>=2->data2rdf) (1.14.0)\n",
            "Requirement already satisfied: msgpack in /home/bue/.local/lib/python3.8/site-packages (from blosc2~=2.0.0->tables==3.8.0->data2rdf) (1.0.8)\n"
          ]
        }
      ],
      "source": [
        "\n",
        "!pip install data2rdf"
      ]
    },
    {
      "cell_type": "markdown",
      "metadata": {},
      "source": [
        "# Load packages"
      ]
    },
    {
      "cell_type": "code",
      "execution_count": 2,
      "metadata": {},
      "outputs": [],
      "source": [
        "%load_ext autoreload\n",
        "%autoreload 2\n",
        "\n",
        "from data2rdf.annotation_pipeline import AnnotationPipeline\n",
        "import warnings\n",
        "import os\n",
        "warnings.filterwarnings('ignore')\n"
      ]
    },
    {
      "attachments": {},
      "cell_type": "markdown",
      "metadata": {},
      "source": [
        "# CSV Example"
      ]
    },
    {
      "cell_type": "markdown",
      "metadata": {},
      "source": [
        "Following is a sample of running the pipeline which demonstrates the required input files.\n",
        "These include:\n",
        "- The raw **data**\n",
        "- a **method graph** which defines the abox in the experiment's scope; It is initially a .drawio that defines the relationship among entities in the data and their properties; Please refer to [this tutorial](https://data2rdf.readthedocs.io/en/latest/workflow.html#abox-skeleton) on the complete process of creating a method graph\n",
        "- a [**mapping**](https://data2rdf.readthedocs.io/en/latest/workflow.html#data-method-mapping) is required to associates entities in the data with their equivalent entity within the method graph \n",
        "\n",
        "\n",
        "Finally, the pipeline creates an rdf graph of the column data "
      ]
    },
    {
      "cell_type": "code",
      "execution_count": 3,
      "metadata": {},
      "outputs": [],
      "source": [
        "working_folder = os.path.join(\"../\" ,\"tests\", \"csv_pipeline_test\")\n",
        "\n",
        "abox_folder_path = os.path.join(working_folder,\"input\" ,  \"method-graph\")\n",
        "\n",
        "output_folder = os.path.join(working_folder,\"output\")\n",
        "template = os.path.join(abox_folder_path, \"tensile_test_method_v6\",\"tensile_test_method_v6.mod.ttl\")\n",
        "mapping_file = os.path.join(working_folder,\"input\" , \"mapping\" ,\"tensile_test_mapping.xlsx\")\n",
        "raw_data = os.path.join(working_folder, \"input\" , \"data\" ,\"DX56_D_FZ2_WR00_43.TXT\")\n",
        "\n",
        "parser = \"csv\"\n",
        "parser_args = {\n",
        "      \"header_sep\":\"\\t\",\n",
        "      \"column_sep\":\"\\t\",\n",
        "      \"header_length\":20\n",
        "   }\n",
        "iri = \"https://stahldigital.materials-data.space/b82b703d-d145-4430-9470-ea803a0e300d\"\n",
        "\n",
        "pipeline = AnnotationPipeline(\n",
        "    raw_data,\n",
        "    parser,\n",
        "    parser_args,\n",
        "    mapping_file,\n",
        "    output_folder,\n",
        "    #template=template,\n",
        "    base_iri=iri,\n",
        "    data_download_iri=iri,\n",
        ")\n",
        "\n",
        "pipeline.run_pipeline()\n",
        "pipeline.export_ttl(\"output_csv.ttl\")"
      ]
    },
    {
      "cell_type": "markdown",
      "metadata": {},
      "source": [
        "# Excel parser example"
      ]
    },
    {
      "cell_type": "code",
      "execution_count": 4,
      "metadata": {},
      "outputs": [],
      "source": [
        "working_folder = os.path.join(\"../\" ,\"tests\", \"xls_pipeline_test\")\n",
        "abox_folder_path = os.path.join(working_folder,\"input\" ,  \"method-graph\")\n",
        "\n",
        "output_folder = os.path.join(working_folder,\"output\")\n",
        "template = os.path.join(abox_folder_path, \"tensile_test_method_v6\",\"tensile_test_method_v6.mod.ttl\")\n",
        "mapping_file = os.path.join(working_folder, \"input\" , \"mapping\",\"mapping.xlsx\")\n",
        "raw_data = os.path.join(working_folder,\"input\" , \"data\" ,\"AFZ1-Fz-S1Q.xlsm\")\n",
        "location_mapping = os.path.join(working_folder, \"input\" , \"mapping\" ,\"location_mapping.xlsx\")\n",
        "\n",
        "parser = \"excel\"\n",
        "parser_args = {\n",
        "    \"location_mapping_f_path\":location_mapping,\n",
        "   }\n",
        "\n",
        "pipeline = AnnotationPipeline(\n",
        "    raw_data,\n",
        "    parser,\n",
        "    parser_args,\n",
        "    mapping_file,\n",
        "    output_folder,\n",
        "    #template=template,\n",
        "    base_iri=iri,\n",
        "    data_download_iri=iri\n",
        ")\n",
        "\n",
        "pipeline.run_pipeline()\n",
        "pipeline.export_ttl(\"output_excel.ttl\")"
      ]
    }
  ],
  "metadata": {
    "kernelspec": {
      "display_name": "Python 3",
      "language": "python",
      "name": "python3"
    },
    "language_info": {
      "codemirror_mode": {
        "name": "ipython",
        "version": 3
      },
      "file_extension": ".py",
      "mimetype": "text/x-python",
      "name": "python",
      "nbconvert_exporter": "python",
      "pygments_lexer": "ipython3",
      "version": "3.8.10"
    },
    "vscode": {
      "interpreter": {
        "hash": "916dbcbb3f70747c44a77c7bcd40155683ae19c65e1c03b4aa3499c5328201f1"
      }
    }
  },
  "nbformat": 4,
  "nbformat_minor": 4
}
