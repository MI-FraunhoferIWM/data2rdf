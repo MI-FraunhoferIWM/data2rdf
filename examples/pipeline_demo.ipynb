{
  "cells": [
    {
      "cell_type": "markdown",
      "metadata": {},
      "source": [
        "# Download Chowlk as submodule and install the package using pip "
      ]
    },
    {
      "cell_type": "code",
      "execution_count": null,
      "metadata": {},
      "outputs": [],
      "source": [
        "!git submodule update --init --recursive\n",
        "!pip install .."
      ]
    },
    {
      "cell_type": "markdown",
      "metadata": {},
      "source": [
        "# Load packages"
      ]
    },
    {
      "cell_type": "code",
      "execution_count": 1,
      "metadata": {},
      "outputs": [],
      "source": [
        "%load_ext autoreload\n",
        "%autoreload 2\n",
        "\n",
        "from data2rdf.cli.abox_conversion import run_abox_pipeline_for_folder \n",
        "from data2rdf.annotation_pipeline import AnnotationPipeline\n",
        "import warnings\n",
        "import os\n",
        "warnings.filterwarnings('ignore')\n"
      ]
    },
    {
      "attachments": {},
      "cell_type": "markdown",
      "metadata": {},
      "source": [
        "# CSV Example"
      ]
    },
    {
      "cell_type": "markdown",
      "metadata": {},
      "source": [
        "Following is a sample of running the pipeline which demonstrates the required input files.\n",
        "These include:\n",
        "- The raw **data**\n",
        "- a **method graph** which defines the abox in the experiment's scope; It is initially a .drawio that defines the relationship among entities in the data and their properties; Please refer to [this tutorial](https://data2rdf.readthedocs.io/en/latest/workflow.html#abox-skeleton) on the complete process of creating a method graph\n",
        "- a [**mapping**](https://data2rdf.readthedocs.io/en/latest/workflow.html#data-method-mapping) is required to associates entities in the data with their equivalent entity within the method graph \n",
        "\n",
        "There are a number of intermediate files created within the pipeline:\n",
        "- `run_abox_pipeline_for_folder` creates a .ttl file of the defined abox\n",
        "\n",
        "Finally, the pipeline creates an rdf graph of the column data "
      ]
    },
    {
      "cell_type": "code",
      "execution_count": 18,
      "metadata": {},
      "outputs": [
        {
          "name": "stdout",
          "output_type": "stream",
          "text": [
            "Of 26 data individuals, 0 were successfully mapped to the method. See the data.mapping-result.xlsx file for mapping results.\n"
          ]
        }
      ],
      "source": [
        "working_folder = os.path.join(\"../\" ,\"tests\", \"csv_pipeline_test\")\n",
        "\n",
        "abox_folder_path = os.path.join(working_folder,\"input\" ,  \"method-graph\")\n",
        "run_abox_pipeline_for_folder(abox_folder_path)\n",
        "\n",
        "output_folder = os.path.join(working_folder,\"output\")\n",
        "template = os.path.join(abox_folder_path, \"tensile_test_method_v6\",\"tensile_test_method_v6.mod.ttl\")\n",
        "mapping_file = os.path.join(working_folder,\"input\" , \"mapping\" ,\"tensile_test_mapping.xlsx\")\n",
        "raw_data = os.path.join(working_folder, \"input\" , \"data\" ,\"DX56_D_FZ2_WR00_43.TXT\")\n",
        "\n",
        "parser = \"csv\"\n",
        "parser_args = {\n",
        "      \"header_sep\":\"\\t\",\n",
        "      \"column_sep\":\"\\t\",\n",
        "      \"header_length\":20\n",
        "   }\n",
        "\n",
        "pipeline = AnnotationPipeline(\n",
        "    raw_data,\n",
        "    parser,\n",
        "    parser_args,\n",
        "    template,\n",
        "    mapping_file,\n",
        "    output_folder,\n",
        "    data_download_iri = \"https://127.0.0.1/id\",\n",
        ")\n",
        "\n",
        "pipeline.run_pipeline()"
      ]
    },
    {
      "cell_type": "code",
      "execution_count": null,
      "metadata": {},
      "outputs": [],
      "source": [
        "for file in os.listdir(output_folder):\n",
        "    print(file)\n",
        "    "
      ]
    },
    {
      "cell_type": "markdown",
      "metadata": {},
      "source": [
        "# The final complete graph including data graph, mapping graph and process graph can be used as rdflib object or exported as ttl.\n",
        "## The ttl export can be used as input for the DSMS or any triplstore."
      ]
    },
    {
      "cell_type": "code",
      "execution_count": null,
      "metadata": {},
      "outputs": [],
      "source": []
    },
    {
      "cell_type": "code",
      "execution_count": null,
      "metadata": {},
      "outputs": [],
      "source": [
        "pipeline = AnnotationPipeline(\n",
        "    raw_data,\n",
        "    parser,\n",
        "    parser_args,\n",
        "    template,\n",
        "    mapping_file,\n",
        "    output_folder,\n",
        ")\n",
        "\n",
        "pipeline.create_output() #set all paths but don't run the pipeline (since it was run in the block before)\n",
        "\n",
        "g = pipeline.export_graph()\n",
        "print(len(g))\n",
        "pipeline.export_ttl(os.path.join(output_folder, 'merged_graph.ttl'))\n"
      ]
    },
    {
      "cell_type": "markdown",
      "metadata": {},
      "source": [
        "# Excel parser example"
      ]
    },
    {
      "cell_type": "code",
      "execution_count": null,
      "metadata": {},
      "outputs": [],
      "source": [
        "working_folder = os.path.join(\"../\" ,\"tests\", \"xls_pipeline_test\")\n",
        "abox_folder_path = os.path.join(working_folder,\"input\" ,  \"method-graph\")\n",
        "run_abox_pipeline_for_folder(abox_folder_path)\n",
        "\n",
        "output_folder = os.path.join(working_folder,\"output\")\n",
        "template = os.path.join(abox_folder_path, \"tensile_test_method_v6\",\"tensile_test_method_v6.mod.ttl\")\n",
        "mapping_file = os.path.join(working_folder, \"input\" , \"mapping\",\"mapping.xlsx\")\n",
        "raw_data = os.path.join(working_folder,\"input\" , \"data\" ,\"AFZ1-Fz-S1Q.xlsm\")\n",
        "location_mapping = os.path.join(working_folder, \"input\" , \"mapping\" ,\"location_mapping.xlsx\")\n",
        "\n",
        "parser = \"excel\"\n",
        "parser_args = {\n",
        "    \"location_mapping_f_path\":location_mapping,\n",
        "   }\n",
        "\n",
        "pipeline = AnnotationPipeline(\n",
        "    raw_data,\n",
        "    parser,\n",
        "    parser_args,\n",
        "    template,\n",
        "    mapping_file,\n",
        "    output_folder,\n",
        "    base_iri = \"http://www.test4.de\"\n",
        ")\n",
        "\n",
        "pipeline.run_pipeline()"
      ]
    }
  ],
  "metadata": {
    "kernelspec": {
      "display_name": "Python 3",
      "language": "python",
      "name": "python3"
    },
    "language_info": {
      "codemirror_mode": {
        "name": "ipython",
        "version": 3
      },
      "file_extension": ".py",
      "mimetype": "text/x-python",
      "name": "python",
      "nbconvert_exporter": "python",
      "pygments_lexer": "ipython3",
      "version": "3.8.10"
    },
    "vscode": {
      "interpreter": {
        "hash": "916dbcbb3f70747c44a77c7bcd40155683ae19c65e1c03b4aa3499c5328201f1"
      }
    }
  },
  "nbformat": 4,
  "nbformat_minor": 4
}
