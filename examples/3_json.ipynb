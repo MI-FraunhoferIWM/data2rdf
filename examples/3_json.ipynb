{
  "cells": [
    {
      "cell_type": "markdown",
      "metadata": {},
      "source": [
        "# Example of abox generation from a json file or python dictonary"
      ]
    },
    {
      "cell_type": "markdown",
      "metadata": {},
      "source": [
        "Please have a look at section from the [official docs](https://data2rdf.readthedocs.io/en/latest/examples/abox/3_json.html) for more details."
      ]
    },
    {
      "cell_type": "markdown",
      "metadata": {},
      "source": [
        "## Import dependencies"
      ]
    },
    {
      "cell_type": "code",
      "execution_count": 72,
      "metadata": {},
      "outputs": [],
      "source": [
        "from data2rdf import Data2RDF, Parser\n",
        "import requests\n",
        "import json"
      ]
    },
    {
      "cell_type": "markdown",
      "metadata": {},
      "source": [
        "## Get raw data"
      ]
    },
    {
      "cell_type": "code",
      "execution_count": 73,
      "metadata": {},
      "outputs": [
        {
          "name": "stdout",
          "output_type": "stream",
          "text": [
            "{\n",
            "  \"data\": {\n",
            "    \"Breitenaenderung\": {\n",
            "      \"unit\": \"mm\",\n",
            "      \"value\": 1.0\n",
            "    },\n",
            "    \"Dehnung\": [\n",
            "      1.0,\n",
            "      2.0,\n",
            "      3.0\n",
            "    ],\n",
            "    \"Standardkraft\": {\n",
            "      \"array\": [\n",
            "        2.0,\n",
            "        3.0,\n",
            "        4.0\n",
            "      ],\n",
            "      \"unit\": \"kN\"\n",
            "    }\n",
            "  },\n",
            "  \"details\": {\n",
            "    \"Bemerkungen\": \"foobar\"\n",
            "  }\n",
            "}\n",
            "\n"
          ]
        }
      ],
      "source": [
        "file_name = \"https://github.com/MI-FraunhoferIWM/data2rdf/raw/v2.0.0/tests/abox/json_pipeline_test/input/data/sample_data.json\"\n",
        "\n",
        "file = requests.get(file_name).text\n",
        "\n",
        "print(file)"
      ]
    },
    {
      "cell_type": "markdown",
      "metadata": {},
      "source": [
        "## Define Mapping"
      ]
    },
    {
      "cell_type": "code",
      "execution_count": 74,
      "metadata": {},
      "outputs": [
        {
          "name": "stdout",
          "output_type": "stream",
          "text": [
            "[\n",
            "  {\n",
            "    \"iri\": \"https://w3id.org/steel/ProcessOntology/Remark\",\n",
            "    \"key\": \"Bemerkungen\",\n",
            "    \"value_location\": \"details.Bemerkungen\"\n",
            "  },\n",
            "  {\n",
            "    \"iri\": \"https://w3id.org/steel/ProcessOntology/WidthChange\",\n",
            "    \"key\": \"Breitenaenderung\",\n",
            "    \"unit_location\": \"data.Breitenaenderung.unit\",\n",
            "    \"value_location\": \"data.Breitenaenderung.value\"\n",
            "  },\n",
            "  {\n",
            "    \"iri\": \"https://w3id.org/steel/ProcessOntology/PercentageElongation\",\n",
            "    \"key\": \"Dehnung\",\n",
            "    \"unit\": \"%\",\n",
            "    \"value_location\": \"data.Dehnung\"\n",
            "  },\n",
            "  {\n",
            "    \"iri\": \"https://w3id.org/steel/ProcessOntology/Force\",\n",
            "    \"key\": \"Standardkraft\",\n",
            "    \"unit_location\": \"data.Standardkraft.unit\",\n",
            "    \"value_location\": \"data.Standardkraft.array\"\n",
            "  }\n",
            "]\n",
            "\n"
          ]
        }
      ],
      "source": [
        "mapping_file = \"https://github.com/MI-FraunhoferIWM/data2rdf/raw/v2.0.0/tests/abox/json_pipeline_test/input/mapping/tensile_test_mapping.json\"\n",
        "\n",
        "mapping = requests.get(mapping_file).json()\n",
        "\n",
        "print(requests.get(mapping_file).text)"
      ]
    },
    {
      "cell_type": "markdown",
      "metadata": {},
      "source": [
        "## Run the pipeline"
      ]
    },
    {
      "cell_type": "markdown",
      "metadata": {},
      "source": [
        "### Version A: as json file"
      ]
    },
    {
      "cell_type": "code",
      "execution_count": 75,
      "metadata": {},
      "outputs": [],
      "source": [
        "pipeline = Data2RDF(\n",
        "    raw_data=file,\n",
        "    parser=Parser.json,\n",
        "    mapping=mapping,\n",
        ")"
      ]
    },
    {
      "cell_type": "markdown",
      "metadata": {},
      "source": [
        "### Version B: as python dict"
      ]
    },
    {
      "cell_type": "code",
      "execution_count": 76,
      "metadata": {},
      "outputs": [],
      "source": [
        "pipeline = Data2RDF(\n",
        "    raw_data=json.loads(file),\n",
        "    parser=Parser.json,\n",
        "    mapping=mapping,\n",
        ")"
      ]
    },
    {
      "cell_type": "markdown",
      "metadata": {},
      "source": [
        "## Print graph"
      ]
    },
    {
      "cell_type": "code",
      "execution_count": 77,
      "metadata": {},
      "outputs": [
        {
          "name": "stdout",
          "output_type": "stream",
          "text": [
            "@prefix dcat: <http://www.w3.org/ns/dcat#> .\n",
            "@prefix dcterms: <http://purl.org/dc/terms/> .\n",
            "@prefix fileid: <https://www.example.org/> .\n",
            "@prefix foaf1: <http://xmlns.com/foaf/spec/> .\n",
            "@prefix ns1: <prov:> .\n",
            "@prefix qudt: <http://qudt.org/schema/qudt/> .\n",
            "@prefix rdfs: <http://www.w3.org/2000/01/rdf-schema#> .\n",
            "@prefix xsd: <http://www.w3.org/2001/XMLSchema#> .\n",
            "\n",
            "fileid:dataset a dcat:Dataset ;\n",
            "    dcterms:hasPart fileid:Dictionary ;\n",
            "    dcat:distribution [ a dcat:Distribution ;\n",
            "            dcat:accessURL \"https://www.example.org/download\"^^xsd:anyURI ;\n",
            "            dcat:mediaType \"https://www.iana.org/assignments/media-types/application/json\"^^xsd:anyURI ] .\n",
            "\n",
            "fileid:Dictionary a ns1:Dictionary ;\n",
            "    ns1:hadDictionaryMember [ a ns1:KeyEntityPair ;\n",
            "            ns1:pairEntity [ a ns1:Entity ;\n",
            "                    qudt:quantity fileid:Force ;\n",
            "                    foaf1:page [ a foaf1:Document ;\n",
            "                            dcterms:format \"https://www.iana.org/assignments/media-types/application/json\"^^xsd:anyURI ;\n",
            "                            dcterms:identifier \"https://www.example.org/column-1\"^^xsd:anyURI ;\n",
            "                            dcterms:type \"http://purl.org/dc/terms/Dataset\"^^xsd:anyURI ] ] ;\n",
            "            ns1:pairKey \"Standardkraft\"^^xsd:string ],\n",
            "        [ a ns1:KeyEntityPair ;\n",
            "            ns1:pairEntity [ a ns1:Entity ;\n",
            "                    qudt:quantity fileid:WidthChange ] ;\n",
            "            ns1:pairKey \"Breitenaenderung\"^^xsd:string ],\n",
            "        [ a ns1:KeyEntityPair ;\n",
            "            ns1:pairEntity [ a ns1:Entity ;\n",
            "                    dcterms:hasPart fileid:Remark ] ;\n",
            "            ns1:pairKey \"Bemerkungen\"^^xsd:string ],\n",
            "        [ a ns1:KeyEntityPair ;\n",
            "            ns1:pairEntity [ a ns1:Entity ;\n",
            "                    qudt:quantity fileid:PercentageElongation ;\n",
            "                    foaf1:page [ a foaf1:Document ;\n",
            "                            dcterms:format \"https://www.iana.org/assignments/media-types/application/json\"^^xsd:anyURI ;\n",
            "                            dcterms:identifier \"https://www.example.org/column-0\"^^xsd:anyURI ;\n",
            "                            dcterms:type \"http://purl.org/dc/terms/Dataset\"^^xsd:anyURI ] ] ;\n",
            "            ns1:pairKey \"Dehnung\"^^xsd:string ] .\n",
            "\n",
            "fileid:Force a <https://w3id.org/steel/ProcessOntology/Force> ;\n",
            "    qudt:hasUnit \"http://qudt.org/vocab/unit/KiloN\"^^xsd:anyURI .\n",
            "\n",
            "fileid:PercentageElongation a <https://w3id.org/steel/ProcessOntology/PercentageElongation> ;\n",
            "    qudt:hasUnit \"http://qudt.org/vocab/unit/PERCENT\"^^xsd:anyURI .\n",
            "\n",
            "fileid:Remark a <https://w3id.org/steel/ProcessOntology/Remark> ;\n",
            "    rdfs:label \"foobar\" .\n",
            "\n",
            "fileid:WidthChange a <https://w3id.org/steel/ProcessOntology/WidthChange> ;\n",
            "    qudt:hasUnit \"http://qudt.org/vocab/unit/MilliM\"^^xsd:anyURI ;\n",
            "    qudt:value \"1.0\"^^xsd:float .\n",
            "\n",
            "\n"
          ]
        }
      ],
      "source": [
        "print(pipeline.graph.serialize())"
      ]
    },
    {
      "cell_type": "markdown",
      "metadata": {},
      "source": [
        "## Print parsed general metadata"
      ]
    },
    {
      "cell_type": "code",
      "execution_count": 78,
      "metadata": {},
      "outputs": [
        {
          "data": {
            "text/plain": [
              "[PropertyGraph(\n",
              " \tiri=https://w3id.org/steel/ProcessOntology/Remark,\n",
              " \tsuffix=Remark,\n",
              " \tkey=Bemerkungen,\n",
              " \tvalue=foobar,\n",
              " \tannotation=None,\n",
              " \tvalue_relation=rdfs:label),\n",
              " QuantityGraph(\n",
              " \tiri=https://w3id.org/steel/ProcessOntology/WidthChange,\n",
              " \tsuffix=WidthChange,\n",
              " \tkey=Breitenaenderung,\n",
              " \tunit=http://qudt.org/vocab/unit/MilliM,\n",
              " \tvalue=1.0,\n",
              " \tunit_relation=qudt:hasUnit,\n",
              " \tvalue_relation=qudt:value)]"
            ]
          },
          "execution_count": 78,
          "metadata": {},
          "output_type": "execute_result"
        }
      ],
      "source": [
        "pipeline.general_metadata"
      ]
    },
    {
      "cell_type": "markdown",
      "metadata": {},
      "source": [
        "## Print parsed dataframe metadata"
      ]
    },
    {
      "cell_type": "code",
      "execution_count": 79,
      "metadata": {},
      "outputs": [
        {
          "data": {
            "text/plain": [
              "[QuantityGraph(\n",
              " \tiri=https://w3id.org/steel/ProcessOntology/PercentageElongation,\n",
              " \tsuffix=PercentageElongation,\n",
              " \tkey=Dehnung,\n",
              " \tunit=http://qudt.org/vocab/unit/PERCENT,\n",
              " \tvalue=None,\n",
              " \tunit_relation=qudt:hasUnit,\n",
              " \tvalue_relation=qudt:value),\n",
              " QuantityGraph(\n",
              " \tiri=https://w3id.org/steel/ProcessOntology/Force,\n",
              " \tsuffix=Force,\n",
              " \tkey=Standardkraft,\n",
              " \tunit=http://qudt.org/vocab/unit/KiloN,\n",
              " \tvalue=None,\n",
              " \tunit_relation=qudt:hasUnit,\n",
              " \tvalue_relation=qudt:value)]"
            ]
          },
          "execution_count": 79,
          "metadata": {},
          "output_type": "execute_result"
        }
      ],
      "source": [
        "pipeline.dataframe_metadata"
      ]
    },
    {
      "cell_type": "markdown",
      "metadata": {},
      "source": [
        "## Print parsed dataframe data"
      ]
    },
    {
      "cell_type": "code",
      "execution_count": 80,
      "metadata": {},
      "outputs": [
        {
          "name": "stdout",
          "output_type": "stream",
          "text": [
            "   PercentageElongation  Force\n",
            "0                   1.0    2.0\n",
            "1                   2.0    3.0\n",
            "2                   3.0    4.0\n"
          ]
        }
      ],
      "source": [
        "print(pipeline.dataframe)"
      ]
    }
  ],
  "metadata": {
    "kernelspec": {
      "display_name": "sdk",
      "language": "python",
      "name": "python3"
    },
    "language_info": {
      "codemirror_mode": {
        "name": "ipython",
        "version": 3
      },
      "file_extension": ".py",
      "mimetype": "text/x-python",
      "name": "python",
      "nbconvert_exporter": "python",
      "pygments_lexer": "ipython3",
      "version": "3.12.2"
    }
  },
  "nbformat": 4,
  "nbformat_minor": 2
}
