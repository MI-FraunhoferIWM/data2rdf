{
 "cells": [
  {
   "cell_type": "markdown",
   "metadata": {},
   "source": [
    "# TBox generation from a Python dictionary"
   ]
  },
  {
   "cell_type": "markdown",
   "metadata": {},
   "source": [
    "Please have a look at section from the [official docs](https://data2rdf.readthedocs.io/en/latest/examples/tbox/tbox.html) for more details."
   ]
  },
  {
   "cell_type": "markdown",
   "metadata": {},
   "source": [
    "## Import dependencies"
   ]
  },
  {
   "cell_type": "code",
   "execution_count": 24,
   "metadata": {},
   "outputs": [],
   "source": [
    "from data2rdf import Data2RDF, Parser\n",
    "import requests"
   ]
  },
  {
   "cell_type": "markdown",
   "metadata": {},
   "source": [
    "## Get raw data"
   ]
  },
  {
   "cell_type": "code",
   "execution_count": 25,
   "metadata": {},
   "outputs": [
    {
     "name": "stdout",
     "output_type": "stream",
     "text": [
      "[\n",
      "  {\n",
      "    \"Author's name\": \"Jane Doe\",\n",
      "    \"Comment\": \"This row is an example\",\n",
      "    \"Description\": \"Quotient of change of stress and change of extension in the range of evaluation in the elastic regime.\",\n",
      "    \"Measurement unit\": \"GPa\",\n",
      "    \"Ontological concept ID\": \"ModulusOfElasticity\",\n",
      "    \"Original name\": \"E\",\n",
      "    \"Source\": \"DIN EN ISO 6892-1, 3.13\"\n",
      "  },\n",
      "  {\n",
      "    \"Author's name\": \"John Doe\",\n",
      "    \"Comment\": \"\",\n",
      "    \"Description\": \"atio of the infinitesimal pressure increase to the resulting relative decrease of the volume\",\n",
      "    \"Measurement unit\": \"MPa \",\n",
      "    \"Ontological concept ID\": \"BulkModulus\",\n",
      "    \"Original name\": \"B\",\n",
      "    \"Source\": \"DIN EN ISO XXX\"\n",
      "  }\n",
      "]\n",
      "\n"
     ]
    }
   ],
   "source": [
    "file_name = \"https://github.com/MI-FraunhoferIWM/data2rdf/raw/v2.0.0/tests/tbox/json_pipeline_test/input/data/classes.json\"\n",
    "\n",
    "file = requests.get(file_name).text\n",
    "\n",
    "print(file)"
   ]
  },
  {
   "cell_type": "markdown",
   "metadata": {},
   "source": [
    "## Define Mapping"
   ]
  },
  {
   "cell_type": "code",
   "execution_count": 26,
   "metadata": {},
   "outputs": [
    {
     "name": "stdout",
     "output_type": "stream",
     "text": [
      "[\n",
      "  {\n",
      "    \"key\": \"Original name\",\n",
      "    \"relation\": \"http://www.w3.org/2000/01/rdf-schema#label\",\n",
      "    \"relation_type\": \"annotation_property\"\n",
      "  },\n",
      "  {\n",
      "    \"key\": \"Ontological concept ID\",\n",
      "    \"relation\": \"http://www.w3.org/2004/02/skos/core#altlabel\",\n",
      "    \"relation_type\": \"annotation_property\"\n",
      "  },\n",
      "  {\n",
      "    \"key\": \"Description\",\n",
      "    \"relation\": \"http://purl.org/dc/terms/description\",\n",
      "    \"relation_type\": \"data_property\"\n",
      "  },\n",
      "  {\n",
      "    \"key\": \"Source\",\n",
      "    \"relation\": \"https://w3id.org/steel/ProcessOntology/hasLabelSource\",\n",
      "    \"relation_type\": \"data_property\"\n",
      "  },\n",
      "  {\n",
      "    \"key\": \"Measurement unit\",\n",
      "    \"relation\": \"https://w3id.org/steel/ProcessOntology/hasTypicalUnitLabel\",\n",
      "    \"relation_type\": \"data_property\"\n",
      "  },\n",
      "  {\n",
      "    \"key\": \"Comment\",\n",
      "    \"relation\": \"http://www.w3.org/2000/01/rdf-schema#comment\",\n",
      "    \"relation_type\": \"data_property\"\n",
      "  },\n",
      "  {\n",
      "    \"key\": \"Author's name\",\n",
      "    \"relation\": \"http://purl.org/dc/terms/contributor\",\n",
      "    \"relation_type\": \"data_property\"\n",
      "  }\n",
      "]\n",
      "\n"
     ]
    }
   ],
   "source": [
    "mapping_file = \"https://github.com/MI-FraunhoferIWM/data2rdf/raw/v2.0.0/tests/tbox/json_pipeline_test/input/mapping/mapping.json\"\n",
    "\n",
    "mapping = requests.get(mapping_file).json()\n",
    "\n",
    "print(requests.get(mapping_file).text)"
   ]
  },
  {
   "cell_type": "markdown",
   "metadata": {},
   "source": [
    "## Define parser arguments"
   ]
  },
  {
   "cell_type": "code",
   "execution_count": 27,
   "metadata": {},
   "outputs": [],
   "source": [
    "parser_args={\n",
    "    \"suffix_location\": \"Ontological concept ID\",\n",
    "    \"ontology_title\": \"Test Ontology\",\n",
    "    \"authors\": [\"Jane Doe\"],\n",
    "}"
   ]
  },
  {
   "cell_type": "markdown",
   "metadata": {},
   "source": [
    "## Run the pipeline"
   ]
  },
  {
   "cell_type": "code",
   "execution_count": 28,
   "metadata": {},
   "outputs": [],
   "source": [
    "pipeline = Data2RDF(\n",
    "    mode=\"tbox\",\n",
    "    raw_data = file,\n",
    "    mapping = mapping,\n",
    "    parser = Parser.json,\n",
    "    parser_args = parser_args,\n",
    "    config={\n",
    "        \"base_iri\": \"https://w3id.org/my_project\",\n",
    "    }\n",
    ")"
   ]
  },
  {
   "cell_type": "markdown",
   "metadata": {},
   "source": [
    "## Print graph"
   ]
  },
  {
   "cell_type": "code",
   "execution_count": 29,
   "metadata": {},
   "outputs": [
    {
     "name": "stdout",
     "output_type": "stream",
     "text": [
      "@prefix dcterms: <http://purl.org/dc/terms/> .\n",
      "@prefix foaf1: <http://xmlns.com/foaf/spec/> .\n",
      "@prefix ns1: <https://w3id.org/steel/ProcessOntology/> .\n",
      "@prefix owl: <http://www.w3.org/2002/07/owl#> .\n",
      "@prefix rdfs: <http://www.w3.org/2000/01/rdf-schema#> .\n",
      "@prefix skos: <http://www.w3.org/2004/02/skos/core#> .\n",
      "@prefix xsd: <http://www.w3.org/2001/XMLSchema#> .\n",
      "\n",
      "<https://w3id.org/my_project> a owl:Ontology ;\n",
      "    dcterms:creator [ a foaf1:Person ;\n",
      "            foaf1:name \"Jane Doe\" ] ;\n",
      "    dcterms:title \"Test Ontology\" ;\n",
      "    owl:versionInfo \"1.0.0\" .\n",
      "\n",
      "<https://w3id.org/my_project/BulkModulus> a owl:Class ;\n",
      "    rdfs:label \"B\"^^xsd:string ;\n",
      "    dcterms:contributor \"John Doe\"^^xsd:string ;\n",
      "    dcterms:description \"atio of the infinitesimal pressure increase to the resulting relative decrease of the volume\"^^xsd:string ;\n",
      "    rdfs:comment \"\"^^xsd:string ;\n",
      "    skos:altlabel \"BulkModulus\"^^xsd:string ;\n",
      "    ns1:hasLabelSource \"DIN EN ISO XXX\"^^xsd:string ;\n",
      "    ns1:hasTypicalUnitLabel \"MPa \"^^xsd:string .\n",
      "\n",
      "<https://w3id.org/my_project/ModulusOfElasticity> a owl:Class ;\n",
      "    rdfs:label \"E\"^^xsd:string ;\n",
      "    dcterms:contributor \"Jane Doe\"^^xsd:string ;\n",
      "    dcterms:description \"Quotient of change of stress and change of extension in the range of evaluation in the elastic regime.\"^^xsd:string ;\n",
      "    rdfs:comment \"This row is an example\"^^xsd:string ;\n",
      "    skos:altlabel \"ModulusOfElasticity\"^^xsd:string ;\n",
      "    ns1:hasLabelSource \"DIN EN ISO 6892-1, 3.13\"^^xsd:string ;\n",
      "    ns1:hasTypicalUnitLabel \"GPa\"^^xsd:string .\n",
      "\n",
      "\n"
     ]
    }
   ],
   "source": [
    "print(pipeline.graph.serialize())"
   ]
  }
 ],
 "metadata": {
  "kernelspec": {
   "display_name": "sdk",
   "language": "python",
   "name": "python3"
  },
  "language_info": {
   "codemirror_mode": {
    "name": "ipython",
    "version": 3
   },
   "file_extension": ".py",
   "mimetype": "text/x-python",
   "name": "python",
   "nbconvert_exporter": "python",
   "pygments_lexer": "ipython3",
   "version": "3.12.2"
  }
 },
 "nbformat": 4,
 "nbformat_minor": 2
}
