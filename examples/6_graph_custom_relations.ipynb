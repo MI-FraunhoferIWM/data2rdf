{
  "cells": [
    {
      "cell_type": "markdown",
      "metadata": {},
      "source": [
        "# Example of abox generation of graph with custom relations"
      ]
    },
    {
      "cell_type": "markdown",
      "metadata": {},
      "source": [
        "Please have a look at section from the [official docs](https://data2rdf.readthedocs.io/en/latest/examples/abox/6_custom_relations.html) for more details."
      ]
    },
    {
      "cell_type": "markdown",
      "metadata": {},
      "source": [
        "## Import dependencies"
      ]
    },
    {
      "cell_type": "code",
      "execution_count": 1,
      "metadata": {},
      "outputs": [],
      "source": [
        "from data2rdf import Data2RDF, Parser"
      ]
    },
    {
      "cell_type": "markdown",
      "metadata": {},
      "source": [
        "## Get raw data"
      ]
    },
    {
      "cell_type": "code",
      "execution_count": 2,
      "metadata": {},
      "outputs": [
        {
          "name": "stdout",
          "output_type": "stream",
          "text": [
            "{'data': {'name': 'Jane Doe', 'measurement': 'Continuous Stiffness Measurement'}}\n"
          ]
        }
      ],
      "source": [
        "file = {\n",
        "        \"data\": {\n",
        "            \"name\": \"Jane Doe\",\n",
        "            \"measurement\": \"Continuous Stiffness Measurement\",\n",
        "        }\n",
        "    }\n",
        "\n",
        "print(file)"
      ]
    },
    {
      "cell_type": "markdown",
      "metadata": {},
      "source": [
        "## Define Mapping"
      ]
    },
    {
      "cell_type": "code",
      "execution_count": 3,
      "metadata": {},
      "outputs": [],
      "source": [
        "mapping = [\n",
        "      {\n",
        "          \"value_location\": \"data.name\",\n",
        "          \"value_relation\": \"http://xmlns.com/foaf/0.1/name\",\n",
        "          \"iri\": \"https://w3id.org/emmo/domain/characterisation-methodology/chameo#Operator\",\n",
        "          \"suffix\": \"Operator1\",\n",
        "      },\n",
        "      {\n",
        "          \"value_location\": \"data.measurement\",\n",
        "          \"iri\": \"https://w3id.org/emmo/domain/domain-nanoindentation/nanoindentation#EMMO_5ca6e1c1-93e9-5e1a-881b-2c2bd38074b1 \",\n",
        "          \"suffix\": \"CSM1\",\n",
        "      },\n",
        "  ]"
      ]
    },
    {
      "cell_type": "markdown",
      "metadata": {},
      "source": [
        "## Define additional triples"
      ]
    },
    {
      "cell_type": "code",
      "execution_count": 4,
      "metadata": {},
      "outputs": [],
      "source": [
        "addtional_triples = \"\"\"\n",
        "@prefix : <http://abox-namespace-placeholder.org/> .\n",
        "@prefix chameo: <https://w3id.org/emmo/domain/characterisation-methodology/chameo#> .\n",
        "\n",
        ":CSM1 chameo:hasOperator :Operator1 .\n",
        "\"\"\""
      ]
    },
    {
      "cell_type": "markdown",
      "metadata": {},
      "source": [
        "## Run the pipeline"
      ]
    },
    {
      "cell_type": "code",
      "execution_count": 5,
      "metadata": {},
      "outputs": [],
      "source": [
        "pipeline = Data2RDF(\n",
        "    raw_data=file,\n",
        "    mapping=mapping,\n",
        "    parser=Parser.json,\n",
        "    additional_triples=addtional_triples,\n",
        "    config={\n",
        "        \"base_iri\": \"https://w3id.org/emmo/domain/domain-nanoindentation/nanoindentation\",\n",
        "        \"separator\": \"#\",\n",
        "        \"prefix_name\": \"nanoindentation\",\n",
        "        \"suppress_file_description\": True,\n",
        "    },\n",
        ")"
      ]
    },
    {
      "cell_type": "markdown",
      "metadata": {},
      "source": [
        "## Print graph"
      ]
    },
    {
      "cell_type": "code",
      "execution_count": 6,
      "metadata": {},
      "outputs": [
        {
          "name": "stdout",
          "output_type": "stream",
          "text": [
            "@prefix foaf: <http://xmlns.com/foaf/0.1/> .\n",
            "@prefix ns1: <https://w3id.org/emmo/domain/characterisation-methodology/chameo#> .\n",
            "@prefix rdfs: <http://www.w3.org/2000/01/rdf-schema#> .\n",
            "\n",
            "<https://w3id.org/emmo/domain/domain-nanoindentation/nanoindentation#CSM1> a <https://w3id.org/emmo/domain/domain-nanoindentation/nanoindentation#EMMO_5ca6e1c1-93e9-5e1a-881b-2c2bd38074b1> ;\n",
            "    rdfs:label \"Continuous Stiffness Measurement\" ;\n",
            "    ns1:hasOperator <https://w3id.org/emmo/domain/domain-nanoindentation/nanoindentation#Operator1> .\n",
            "\n",
            "<https://w3id.org/emmo/domain/domain-nanoindentation/nanoindentation#Operator1> a ns1:Operator ;\n",
            "    foaf:name \"Jane Doe\" .\n",
            "\n",
            "\n"
          ]
        }
      ],
      "source": [
        "print(pipeline.graph.serialize())"
      ]
    }
  ],
  "metadata": {
    "kernelspec": {
      "display_name": "sdk",
      "language": "python",
      "name": "python3"
    },
    "language_info": {
      "codemirror_mode": {
        "name": "ipython",
        "version": 3
      },
      "file_extension": ".py",
      "mimetype": "text/x-python",
      "name": "python",
      "nbconvert_exporter": "python",
      "pygments_lexer": "ipython3",
      "version": "3.10.14"
    }
  },
  "nbformat": 4,
  "nbformat_minor": 2
}
