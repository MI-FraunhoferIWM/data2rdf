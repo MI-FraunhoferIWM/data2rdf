{
  "cells": [
    {
      "cell_type": "markdown",
      "metadata": {},
      "source": [
        "# Example of abox generation of graph with custom relations"
      ]
    },
    {
      "cell_type": "markdown",
      "metadata": {},
      "source": [
        "Please have a look at section from the [official docs](https://data2rdf.readthedocs.io/en/latest/examples/abox/6_custom_relations.html) for more details."
      ]
    },
    {
      "cell_type": "markdown",
      "metadata": {},
      "source": [
        "## Import dependencies"
      ]
    },
    {
      "cell_type": "code",
      "execution_count": 1,
      "metadata": {},
      "outputs": [],
      "source": [
        "from data2rdf import Data2RDF, Parser"
      ]
    },
    {
      "cell_type": "markdown",
      "metadata": {},
      "source": [
        "## Get raw data"
      ]
    },
    {
      "cell_type": "code",
      "execution_count": null,
      "metadata": {},
      "outputs": [],
      "source": [
        "file = {\n",
        "    \"data\": [\n",
        "        {\n",
        "            \"name\": \"Jane\",\n",
        "            \"age\": 28,\n",
        "            \"lab_no\": 123,\n",
        "        },\n",
        "        {\n",
        "            \"name\": \"John\",\n",
        "            \"age\": 32,\n",
        "            \"lab_no\": 345,\n",
        "        },\n",
        "    ]\n",
        "}"
      ]
    },
    {
      "cell_type": "markdown",
      "metadata": {},
      "source": [
        "## Define Mapping"
      ]
    },
    {
      "cell_type": "code",
      "execution_count": 3,
      "metadata": {},
      "outputs": [],
      "source": [
        "mapping = [\n",
        "    {\n",
        "        \"iri\": \"https://w3id.org/emmo/domain/characterisation-methodology/chameo#Operator\",\n",
        "        \"suffix\": \"name\",\n",
        "        \"source\": \"data[*]\",\n",
        "        \"suffix_from_location\": True,\n",
        "        \"custom_relations\": [\n",
        "            {\n",
        "                \"object_location\": \"name\",\n",
        "                \"relation\": \"http://xmlns.com/foaf/0.1/name\",\n",
        "            },\n",
        "            {\n",
        "                \"object_location\": \"age\",\n",
        "                \"relation\": \"http://xmlns.com/foaf/0.1/age\",\n",
        "            },\n",
        "            {\n",
        "                \"object_location\": \"lab_no\",\n",
        "                \"relation\": \"https://w3id.org/steel/ProcessOntology/hasLaboratory\",\n",
        "            },\n",
        "        ],\n",
        "    }\n",
        "]"
      ]
    },
    {
      "cell_type": "markdown",
      "metadata": {},
      "source": [
        "## Define additional triples"
      ]
    },
    {
      "cell_type": "code",
      "execution_count": 4,
      "metadata": {},
      "outputs": [],
      "source": [
        "addtional_triples = \"\"\"\n",
        "@prefix : <http://abox-namespace-placeholder.org/> .\n",
        "@prefix foaf: <http://xmlns.com/foaf/0.1/> .\n",
        "\n",
        ":John foaf:knows :Jane .\n",
        "\"\"\""
      ]
    },
    {
      "cell_type": "markdown",
      "metadata": {},
      "source": [
        "## Run the pipeline"
      ]
    },
    {
      "cell_type": "code",
      "execution_count": 5,
      "metadata": {},
      "outputs": [],
      "source": [
        "pipeline = Data2RDF(\n",
        "    raw_data=file,\n",
        "    mapping=mapping,\n",
        "    parser=Parser.json,\n",
        "    config={\n",
        "        \"base_iri\": \"https://w3id.org/emmo/domain/domain-nanoindentation/nanoindentation\",\n",
        "        \"separator\": \"#\",\n",
        "        \"prefix_name\": \"nanoindentation\",\n",
        "        \"suppress_file_description\": True,\n",
        "    },\n",
        "    additional_triples=addtional_triples,\n",
        ")"
      ]
    },
    {
      "cell_type": "markdown",
      "metadata": {},
      "source": [
        "## Print graph"
      ]
    },
    {
      "cell_type": "code",
      "execution_count": 6,
      "metadata": {},
      "outputs": [
        {
          "name": "stdout",
          "output_type": "stream",
          "text": [
            "@prefix foaf: <http://xmlns.com/foaf/0.1/> .\n",
            "@prefix ns1: <https://w3id.org/steel/ProcessOntology/> .\n",
            "@prefix xsd: <http://www.w3.org/2001/XMLSchema#> .\n",
            "\n",
            "<https://w3id.org/emmo/domain/domain-nanoindentation/nanoindentation#John> a <https://w3id.org/emmo/domain/characterisation-methodology/chameo#Operator> ;\n",
            "    foaf:age 32 ;\n",
            "    foaf:knows <https://w3id.org/emmo/domain/domain-nanoindentation/nanoindentation#Jane> ;\n",
            "    foaf:name \"John\"^^xsd:string ;\n",
            "    ns1:hasLaboratory 345 .\n",
            "\n",
            "<https://w3id.org/emmo/domain/domain-nanoindentation/nanoindentation#Jane> a <https://w3id.org/emmo/domain/characterisation-methodology/chameo#Operator> ;\n",
            "    foaf:age 28 ;\n",
            "    foaf:name \"Jane\"^^xsd:string ;\n",
            "    ns1:hasLaboratory 123 .\n",
            "\n",
            "\n"
          ]
        }
      ],
      "source": [
        "print(pipeline.graph.serialize())"
      ]
    }
  ],
  "metadata": {
    "kernelspec": {
      "display_name": "sdk",
      "language": "python",
      "name": "python3"
    },
    "language_info": {
      "codemirror_mode": {
        "name": "ipython",
        "version": 3
      },
      "file_extension": ".py",
      "mimetype": "text/x-python",
      "name": "python",
      "nbconvert_exporter": "python",
      "pygments_lexer": "ipython3",
      "version": "3.12.2"
    }
  },
  "nbformat": 4,
  "nbformat_minor": 2
}
